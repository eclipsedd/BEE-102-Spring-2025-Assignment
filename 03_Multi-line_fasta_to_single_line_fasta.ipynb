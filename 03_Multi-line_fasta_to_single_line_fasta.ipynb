{
 "cells": [
  {
   "cell_type": "code",
   "execution_count": 7,
   "id": "108cdb4a",
   "metadata": {},
   "outputs": [
    {
     "name": "stdout",
     "output_type": "stream",
     "text": [
      "The converted output is saved as 'output_Q3.fasta' in output directory.\n",
      "50 lines processed.\n"
     ]
    }
   ],
   "source": [
    "# loc from where to take input, and where to save output\n",
    "input_file = \"./data/multiline_input.fasta\"\n",
    "output_file = \"./output/output_Q3.fasta\"\n",
    "\n",
    "x=0\n",
    "with open(input_file, 'r') as input, open(output_file, 'w') as outfile:\n",
    "    new_l = False\n",
    "    for line in input:\n",
    "        line = line.strip('\\n')\n",
    "        # line starting with '>' indicate a header line.\n",
    "        if line.startswith('>'):\n",
    "            x+=1\n",
    "            if new_l:\n",
    "                outfile.write('\\n')\n",
    "            outfile.write(line + '\\n')\n",
    "            new_l = True\n",
    "        else:\n",
    "            # write continuously without newlines.\n",
    "            outfile.write(line.strip())\n",
    "\n",
    "    outfile.write('\\n') # ensure proper termination\n",
    "\n",
    "print(f\"The converted output is saved as \\'output_Q3.fasta\\' in output directory.\\n{x} lines processed.\")\n"
   ]
  }
 ],
 "metadata": {
  "kernelspec": {
   "display_name": "Python 3",
   "language": "python",
   "name": "python3"
  },
  "language_info": {
   "codemirror_mode": {
    "name": "ipython",
    "version": 3
   },
   "file_extension": ".py",
   "mimetype": "text/x-python",
   "name": "python",
   "nbconvert_exporter": "python",
   "pygments_lexer": "ipython3",
   "version": "3.12.2"
  }
 },
 "nbformat": 4,
 "nbformat_minor": 5
}
