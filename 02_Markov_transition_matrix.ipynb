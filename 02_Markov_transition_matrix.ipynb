{
 "cells": [
  {
   "cell_type": "code",
   "execution_count": 5,
   "id": "16980e17",
   "metadata": {},
   "outputs": [],
   "source": [
    "import pandas as pd"
   ]
  },
  {
   "cell_type": "code",
   "execution_count": 7,
   "id": "c92c3f87",
   "metadata": {},
   "outputs": [
    {
     "name": "stdout",
     "output_type": "stream",
     "text": [
      "Markov Transition Matrix:\n",
      "        A    C    G     T\n",
      "A  0.0625  0.1  0.2  0.52\n",
      "C  0.2500  0.0  0.2  0.16\n",
      "G  0.1250  0.0  0.2  0.12\n",
      "T  0.5625  0.9  0.4  0.20\n"
     ]
    }
   ],
   "source": [
    "sequence = \"CTAGTTCAGTTATTAATCTGGCTTATATACTGACTACTATATCTCTTATATATACTG\"\n",
    "\n",
    "states = ['A', 'C', 'G', 'T'] # mono-nucleotide states\n",
    "\n",
    "counts = {i: {j: 0 for j in states} for i in states} # initializing counts dict\n",
    "\n",
    "# filling above dict\n",
    "for i in range(len(sequence) - 1):\n",
    "    curr, next = sequence[i], sequence[i + 1]\n",
    "    if (curr in states) and (next in states):\n",
    "        counts[curr][next] += 1\n",
    "    else :\n",
    "        print(f\"Invalid char '{curr}' or '{next}'. Continuing.\")\n",
    "\n",
    "trans_mat = {nucleotide1: {} for nucleotide1 in states}\n",
    "\n",
    "for nucleotide1 in states:\n",
    "    total_transitions = sum(counts[nucleotide1].values())\n",
    "\n",
    "    if total_transitions > 0:\n",
    "        for nucleotide2 in states:\n",
    "            trans_mat[nucleotide1][nucleotide2] = counts[nucleotide1][nucleotide2] / total_transitions\n",
    "    else:\n",
    "        # If no transitions, 0 probability is assigned for each\n",
    "        for nucleotide2 in states:\n",
    "            trans_mat[nucleotide1][nucleotide2] = 0.0\n",
    "\n",
    "markov_matrix = pd.DataFrame(trans_mat)\n",
    "\n",
    "print(\"Markov Transition Matrix:\") # rows: current base; columns: next base\n",
    "print(markov_matrix)\n"
   ]
  }
 ],
 "metadata": {
  "kernelspec": {
   "display_name": "Python 3",
   "language": "python",
   "name": "python3"
  },
  "language_info": {
   "codemirror_mode": {
    "name": "ipython",
    "version": 3
   },
   "file_extension": ".py",
   "mimetype": "text/x-python",
   "name": "python",
   "nbconvert_exporter": "python",
   "pygments_lexer": "ipython3",
   "version": "3.12.2"
  }
 },
 "nbformat": 4,
 "nbformat_minor": 5
}
